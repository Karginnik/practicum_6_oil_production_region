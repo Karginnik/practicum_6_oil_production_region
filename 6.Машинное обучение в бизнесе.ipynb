{
 "cells": [
  {
   "cell_type": "markdown",
   "metadata": {},
   "source": [
    "# Выбор локации для скважины"
   ]
  },
  {
   "cell_type": "markdown",
   "metadata": {},
   "source": [
    "Допустим, вы работаете в добывающей компании «ГлавРосГосНефть». Нужно решить, где бурить новую скважину.\n",
    "\n",
    "Вам предоставлены пробы нефти в трёх регионах: в каждом 10 000 месторождений, где измерили качество нефти и объём её запасов. Постройте модель машинного обучения, которая поможет определить регион, где добыча принесёт наибольшую прибыль. Проанализируйте возможную прибыль и риски техникой *Bootstrap.*\n",
    "\n",
    "Шаги для выбора локации:\n",
    "\n",
    "- В избранном регионе ищут месторождения, для каждого определяют значения признаков;\n",
    "- Строят модель и оценивают объём запасов;\n",
    "- Выбирают месторождения с самым высокими оценками значений. Количество месторождений зависит от бюджета компании и стоимости разработки одной скважины;\n",
    "- Прибыль равна суммарной прибыли отобранных месторождений."
   ]
  },
  {
   "cell_type": "markdown",
   "metadata": {},
   "source": [
    "## Загрузка и подготовка данных"
   ]
  },
  {
   "cell_type": "markdown",
   "metadata": {},
   "source": [
    "Импортируем необходимые библиотеки"
   ]
  },
  {
   "cell_type": "code",
   "execution_count": 1,
   "metadata": {},
   "outputs": [],
   "source": [
    "import pandas as pd\n",
    "import numpy as np\n",
    "from scipy import stats as st\n",
    "from sklearn.model_selection import train_test_split\n",
    "from sklearn.metrics import mean_squared_error\n",
    "from sklearn.linear_model import LinearRegression"
   ]
  },
  {
   "cell_type": "markdown",
   "metadata": {},
   "source": [
    "Загрузим датафреймы для 3 регионов и выведем общую информацию "
   ]
  },
  {
   "cell_type": "code",
   "execution_count": 2,
   "metadata": {
    "scrolled": true
   },
   "outputs": [
    {
     "name": "stdout",
     "output_type": "stream",
     "text": [
      "<class 'pandas.core.frame.DataFrame'>\n",
      "RangeIndex: 100000 entries, 0 to 99999\n",
      "Data columns (total 5 columns):\n",
      " #   Column   Non-Null Count   Dtype  \n",
      "---  ------   --------------   -----  \n",
      " 0   id       100000 non-null  object \n",
      " 1   f0       100000 non-null  float64\n",
      " 2   f1       100000 non-null  float64\n",
      " 3   f2       100000 non-null  float64\n",
      " 4   product  100000 non-null  float64\n",
      "dtypes: float64(4), object(1)\n",
      "memory usage: 3.8+ MB\n",
      "<class 'pandas.core.frame.DataFrame'>\n",
      "RangeIndex: 100000 entries, 0 to 99999\n",
      "Data columns (total 5 columns):\n",
      " #   Column   Non-Null Count   Dtype  \n",
      "---  ------   --------------   -----  \n",
      " 0   id       100000 non-null  object \n",
      " 1   f0       100000 non-null  float64\n",
      " 2   f1       100000 non-null  float64\n",
      " 3   f2       100000 non-null  float64\n",
      " 4   product  100000 non-null  float64\n",
      "dtypes: float64(4), object(1)\n",
      "memory usage: 3.8+ MB\n",
      "<class 'pandas.core.frame.DataFrame'>\n",
      "RangeIndex: 100000 entries, 0 to 99999\n",
      "Data columns (total 5 columns):\n",
      " #   Column   Non-Null Count   Dtype  \n",
      "---  ------   --------------   -----  \n",
      " 0   id       100000 non-null  object \n",
      " 1   f0       100000 non-null  float64\n",
      " 2   f1       100000 non-null  float64\n",
      " 3   f2       100000 non-null  float64\n",
      " 4   product  100000 non-null  float64\n",
      "dtypes: float64(4), object(1)\n",
      "memory usage: 3.8+ MB\n"
     ]
    },
    {
     "data": {
      "text/plain": [
       "(None, None, None)"
      ]
     },
     "execution_count": 2,
     "metadata": {},
     "output_type": "execute_result"
    }
   ],
   "source": [
    "try:   \n",
    "    data_0 = pd.read_csv('/datasets/geo_data_0.csv')\n",
    "    data_1 = pd.read_csv('/datasets/geo_data_1.csv')\n",
    "    data_2 = pd.read_csv('/datasets/geo_data_2.csv')\n",
    "except:\n",
    "    data_0 = pd.read_csv('https://code.s3.yandex.net/datasets/geo_data_0.csv')\n",
    "    data_1 = pd.read_csv('https://code.s3.yandex.net/datasets/geo_data_1.csv')\n",
    "    data_2 = pd.read_csv('https://code.s3.yandex.net/datasets/geo_data_2.csv')\n",
    "\n",
    "data_0.info(), data_1.info(), data_2.info()"
   ]
  },
  {
   "cell_type": "markdown",
   "metadata": {},
   "source": [
    "Выведем первые 5 строк датафрейма для первого региона  "
   ]
  },
  {
   "cell_type": "code",
   "execution_count": 3,
   "metadata": {
    "scrolled": true
   },
   "outputs": [
    {
     "data": {
      "text/html": [
       "<div>\n",
       "<style scoped>\n",
       "    .dataframe tbody tr th:only-of-type {\n",
       "        vertical-align: middle;\n",
       "    }\n",
       "\n",
       "    .dataframe tbody tr th {\n",
       "        vertical-align: top;\n",
       "    }\n",
       "\n",
       "    .dataframe thead th {\n",
       "        text-align: right;\n",
       "    }\n",
       "</style>\n",
       "<table border=\"1\" class=\"dataframe\">\n",
       "  <thead>\n",
       "    <tr style=\"text-align: right;\">\n",
       "      <th></th>\n",
       "      <th>id</th>\n",
       "      <th>f0</th>\n",
       "      <th>f1</th>\n",
       "      <th>f2</th>\n",
       "      <th>product</th>\n",
       "    </tr>\n",
       "  </thead>\n",
       "  <tbody>\n",
       "    <tr>\n",
       "      <th>0</th>\n",
       "      <td>txEyH</td>\n",
       "      <td>0.705745</td>\n",
       "      <td>-0.497823</td>\n",
       "      <td>1.221170</td>\n",
       "      <td>105.280062</td>\n",
       "    </tr>\n",
       "    <tr>\n",
       "      <th>1</th>\n",
       "      <td>2acmU</td>\n",
       "      <td>1.334711</td>\n",
       "      <td>-0.340164</td>\n",
       "      <td>4.365080</td>\n",
       "      <td>73.037750</td>\n",
       "    </tr>\n",
       "    <tr>\n",
       "      <th>2</th>\n",
       "      <td>409Wp</td>\n",
       "      <td>1.022732</td>\n",
       "      <td>0.151990</td>\n",
       "      <td>1.419926</td>\n",
       "      <td>85.265647</td>\n",
       "    </tr>\n",
       "    <tr>\n",
       "      <th>3</th>\n",
       "      <td>iJLyR</td>\n",
       "      <td>-0.032172</td>\n",
       "      <td>0.139033</td>\n",
       "      <td>2.978566</td>\n",
       "      <td>168.620776</td>\n",
       "    </tr>\n",
       "    <tr>\n",
       "      <th>4</th>\n",
       "      <td>Xdl7t</td>\n",
       "      <td>1.988431</td>\n",
       "      <td>0.155413</td>\n",
       "      <td>4.751769</td>\n",
       "      <td>154.036647</td>\n",
       "    </tr>\n",
       "  </tbody>\n",
       "</table>\n",
       "</div>"
      ],
      "text/plain": [
       "      id        f0        f1        f2     product\n",
       "0  txEyH  0.705745 -0.497823  1.221170  105.280062\n",
       "1  2acmU  1.334711 -0.340164  4.365080   73.037750\n",
       "2  409Wp  1.022732  0.151990  1.419926   85.265647\n",
       "3  iJLyR -0.032172  0.139033  2.978566  168.620776\n",
       "4  Xdl7t  1.988431  0.155413  4.751769  154.036647"
      ]
     },
     "execution_count": 3,
     "metadata": {},
     "output_type": "execute_result"
    }
   ],
   "source": [
    "data_0.head()"
   ]
  },
  {
   "cell_type": "markdown",
   "metadata": {},
   "source": [
    "Выведем первые 5 строк датафрейма для второго региона  "
   ]
  },
  {
   "cell_type": "code",
   "execution_count": 4,
   "metadata": {},
   "outputs": [
    {
     "data": {
      "text/html": [
       "<div>\n",
       "<style scoped>\n",
       "    .dataframe tbody tr th:only-of-type {\n",
       "        vertical-align: middle;\n",
       "    }\n",
       "\n",
       "    .dataframe tbody tr th {\n",
       "        vertical-align: top;\n",
       "    }\n",
       "\n",
       "    .dataframe thead th {\n",
       "        text-align: right;\n",
       "    }\n",
       "</style>\n",
       "<table border=\"1\" class=\"dataframe\">\n",
       "  <thead>\n",
       "    <tr style=\"text-align: right;\">\n",
       "      <th></th>\n",
       "      <th>id</th>\n",
       "      <th>f0</th>\n",
       "      <th>f1</th>\n",
       "      <th>f2</th>\n",
       "      <th>product</th>\n",
       "    </tr>\n",
       "  </thead>\n",
       "  <tbody>\n",
       "    <tr>\n",
       "      <th>0</th>\n",
       "      <td>kBEdx</td>\n",
       "      <td>-15.001348</td>\n",
       "      <td>-8.276000</td>\n",
       "      <td>-0.005876</td>\n",
       "      <td>3.179103</td>\n",
       "    </tr>\n",
       "    <tr>\n",
       "      <th>1</th>\n",
       "      <td>62mP7</td>\n",
       "      <td>14.272088</td>\n",
       "      <td>-3.475083</td>\n",
       "      <td>0.999183</td>\n",
       "      <td>26.953261</td>\n",
       "    </tr>\n",
       "    <tr>\n",
       "      <th>2</th>\n",
       "      <td>vyE1P</td>\n",
       "      <td>6.263187</td>\n",
       "      <td>-5.948386</td>\n",
       "      <td>5.001160</td>\n",
       "      <td>134.766305</td>\n",
       "    </tr>\n",
       "    <tr>\n",
       "      <th>3</th>\n",
       "      <td>KcrkZ</td>\n",
       "      <td>-13.081196</td>\n",
       "      <td>-11.506057</td>\n",
       "      <td>4.999415</td>\n",
       "      <td>137.945408</td>\n",
       "    </tr>\n",
       "    <tr>\n",
       "      <th>4</th>\n",
       "      <td>AHL4O</td>\n",
       "      <td>12.702195</td>\n",
       "      <td>-8.147433</td>\n",
       "      <td>5.004363</td>\n",
       "      <td>134.766305</td>\n",
       "    </tr>\n",
       "  </tbody>\n",
       "</table>\n",
       "</div>"
      ],
      "text/plain": [
       "      id         f0         f1        f2     product\n",
       "0  kBEdx -15.001348  -8.276000 -0.005876    3.179103\n",
       "1  62mP7  14.272088  -3.475083  0.999183   26.953261\n",
       "2  vyE1P   6.263187  -5.948386  5.001160  134.766305\n",
       "3  KcrkZ -13.081196 -11.506057  4.999415  137.945408\n",
       "4  AHL4O  12.702195  -8.147433  5.004363  134.766305"
      ]
     },
     "execution_count": 4,
     "metadata": {},
     "output_type": "execute_result"
    }
   ],
   "source": [
    "data_1.head()"
   ]
  },
  {
   "cell_type": "markdown",
   "metadata": {},
   "source": [
    "Выведем первые 5 строк датафрейма для третьего региона  "
   ]
  },
  {
   "cell_type": "code",
   "execution_count": 5,
   "metadata": {
    "scrolled": false
   },
   "outputs": [
    {
     "data": {
      "text/html": [
       "<div>\n",
       "<style scoped>\n",
       "    .dataframe tbody tr th:only-of-type {\n",
       "        vertical-align: middle;\n",
       "    }\n",
       "\n",
       "    .dataframe tbody tr th {\n",
       "        vertical-align: top;\n",
       "    }\n",
       "\n",
       "    .dataframe thead th {\n",
       "        text-align: right;\n",
       "    }\n",
       "</style>\n",
       "<table border=\"1\" class=\"dataframe\">\n",
       "  <thead>\n",
       "    <tr style=\"text-align: right;\">\n",
       "      <th></th>\n",
       "      <th>id</th>\n",
       "      <th>f0</th>\n",
       "      <th>f1</th>\n",
       "      <th>f2</th>\n",
       "      <th>product</th>\n",
       "    </tr>\n",
       "  </thead>\n",
       "  <tbody>\n",
       "    <tr>\n",
       "      <th>0</th>\n",
       "      <td>fwXo0</td>\n",
       "      <td>-1.146987</td>\n",
       "      <td>0.963328</td>\n",
       "      <td>-0.828965</td>\n",
       "      <td>27.758673</td>\n",
       "    </tr>\n",
       "    <tr>\n",
       "      <th>1</th>\n",
       "      <td>WJtFt</td>\n",
       "      <td>0.262778</td>\n",
       "      <td>0.269839</td>\n",
       "      <td>-2.530187</td>\n",
       "      <td>56.069697</td>\n",
       "    </tr>\n",
       "    <tr>\n",
       "      <th>2</th>\n",
       "      <td>ovLUW</td>\n",
       "      <td>0.194587</td>\n",
       "      <td>0.289035</td>\n",
       "      <td>-5.586433</td>\n",
       "      <td>62.871910</td>\n",
       "    </tr>\n",
       "    <tr>\n",
       "      <th>3</th>\n",
       "      <td>q6cA6</td>\n",
       "      <td>2.236060</td>\n",
       "      <td>-0.553760</td>\n",
       "      <td>0.930038</td>\n",
       "      <td>114.572842</td>\n",
       "    </tr>\n",
       "    <tr>\n",
       "      <th>4</th>\n",
       "      <td>WPMUX</td>\n",
       "      <td>-0.515993</td>\n",
       "      <td>1.716266</td>\n",
       "      <td>5.899011</td>\n",
       "      <td>149.600746</td>\n",
       "    </tr>\n",
       "  </tbody>\n",
       "</table>\n",
       "</div>"
      ],
      "text/plain": [
       "      id        f0        f1        f2     product\n",
       "0  fwXo0 -1.146987  0.963328 -0.828965   27.758673\n",
       "1  WJtFt  0.262778  0.269839 -2.530187   56.069697\n",
       "2  ovLUW  0.194587  0.289035 -5.586433   62.871910\n",
       "3  q6cA6  2.236060 -0.553760  0.930038  114.572842\n",
       "4  WPMUX -0.515993  1.716266  5.899011  149.600746"
      ]
     },
     "execution_count": 5,
     "metadata": {},
     "output_type": "execute_result"
    }
   ],
   "source": [
    "data_2.head()"
   ]
  },
  {
   "cell_type": "markdown",
   "metadata": {},
   "source": [
    "Все 3 датафрейма имеют одинаковую структуру. Заметим, что все признаки в датафрейме важны для обучения модели, кроме признака “id”. Его мы уберем при разделении на выборки features и target. "
   ]
  },
  {
   "cell_type": "markdown",
   "metadata": {},
   "source": [
    "## Обучение и проверка модели"
   ]
  },
  {
   "cell_type": "markdown",
   "metadata": {},
   "source": [
    "Создадим функцию для разделения датафреймов регионов добычи на выборки  features и target"
   ]
  },
  {
   "cell_type": "code",
   "execution_count": 6,
   "metadata": {},
   "outputs": [],
   "source": [
    "def split_features_target(data):\n",
    "    features = data.drop(['product', 'id'], axis=1)\n",
    "    target = data['product']\n",
    "    return features, target"
   ]
  },
  {
   "cell_type": "markdown",
   "metadata": {},
   "source": [
    "Применим написанную нами функцию к датафремам "
   ]
  },
  {
   "cell_type": "code",
   "execution_count": 7,
   "metadata": {},
   "outputs": [],
   "source": [
    "features_0, target_0 = split_features_target(data_0)\n",
    "features_1, target_1 = split_features_target(data_1)\n",
    "features_2, target_2 = split_features_target(data_2)"
   ]
  },
  {
   "cell_type": "markdown",
   "metadata": {},
   "source": [
    "Разделим наши выборки для первого региона на тестовую и валидационную выборку, а также проверим их размер "
   ]
  },
  {
   "cell_type": "code",
   "execution_count": 8,
   "metadata": {},
   "outputs": [
    {
     "data": {
      "text/plain": [
       "(75000, 25000, 75000, 25000)"
      ]
     },
     "execution_count": 8,
     "metadata": {},
     "output_type": "execute_result"
    }
   ],
   "source": [
    "features_train_0, features_valid_0, target_train_0, target_valid_0 = train_test_split(\n",
    "    features_0, target_0, test_size=0.25, random_state=12345)\n",
    "\n",
    "features_train_0.shape[0], features_valid_0.shape[0], target_train_0.shape[0], target_valid_0.shape[0]"
   ]
  },
  {
   "cell_type": "markdown",
   "metadata": {},
   "source": [
    "Проделаем тоже самое для второго и третьего региона  "
   ]
  },
  {
   "cell_type": "code",
   "execution_count": 9,
   "metadata": {},
   "outputs": [
    {
     "data": {
      "text/plain": [
       "(75000, 25000, 75000, 25000)"
      ]
     },
     "execution_count": 9,
     "metadata": {},
     "output_type": "execute_result"
    }
   ],
   "source": [
    "features_train_1, features_valid_1, target_train_1, target_valid_1 = train_test_split(\n",
    "    features_1, target_1, test_size=0.25, random_state=12345)\n",
    "\n",
    "features_train_1.shape[0], features_valid_1.shape[0], target_train_1.shape[0], target_valid_1.shape[0]"
   ]
  },
  {
   "cell_type": "code",
   "execution_count": 10,
   "metadata": {
    "scrolled": true
   },
   "outputs": [
    {
     "data": {
      "text/plain": [
       "(75000, 25000, 75000, 25000)"
      ]
     },
     "execution_count": 10,
     "metadata": {},
     "output_type": "execute_result"
    }
   ],
   "source": [
    "features_train_2, features_valid_2, target_train_2, target_valid_2 = train_test_split(\n",
    "    features_2, target_2, test_size=0.25, random_state=12345)\n",
    "\n",
    "features_train_2.shape[0], features_valid_2.shape[0], target_train_2.shape[0], target_valid_2.shape[0]"
   ]
  },
  {
   "cell_type": "markdown",
   "metadata": {},
   "source": [
    "Обучим модель линейной регрессии на валидационной выборке для первого региона, посчитаем средний запас предсказанного сырья а также выведем значение RMSE"
   ]
  },
  {
   "cell_type": "code",
   "execution_count": 11,
   "metadata": {},
   "outputs": [
    {
     "name": "stdout",
     "output_type": "stream",
     "text": [
      "Средний запас предсказанного сырья: 92.59256778438035, RMSE модели линейной регрессии на валидационной выборке: 37.5794217150813\n"
     ]
    }
   ],
   "source": [
    "model_0 = LinearRegression()\n",
    "model_0.fit(features_train_0, target_train_0)\n",
    "predict_0 = model_0.predict(features_valid_0)\n",
    "rmse_0 = mean_squared_error(target_valid_0, predict_0) ** .5\n",
    "mean_predict_0 = predict_0.mean()\n",
    "print(f'Средний запас предсказанного сырья: {mean_predict_0}, \\\n",
    "RMSE модели линейной регрессии на валидационной выборке: {rmse_0}')"
   ]
  },
  {
   "cell_type": "markdown",
   "metadata": {},
   "source": [
    "Проделаем тоже самое для второго и третьего региона  "
   ]
  },
  {
   "cell_type": "code",
   "execution_count": 12,
   "metadata": {},
   "outputs": [
    {
     "name": "stdout",
     "output_type": "stream",
     "text": [
      "Средний запас предсказанного сырья: 68.728546895446, RMSE модели линейной регрессии на валидационной выборке: 0.893099286775617\n"
     ]
    }
   ],
   "source": [
    "model_1 = LinearRegression()\n",
    "model_1.fit(features_train_1, target_train_1)\n",
    "predict_1 = model_1.predict(features_valid_1)\n",
    "rmse_1 = mean_squared_error(target_valid_1, predict_1) ** .5\n",
    "mean_predict_1 = predict_1.mean()\n",
    "print(f'Средний запас предсказанного сырья: {mean_predict_1}, \\\n",
    "RMSE модели линейной регрессии на валидационной выборке: {rmse_1}')"
   ]
  },
  {
   "cell_type": "code",
   "execution_count": 13,
   "metadata": {},
   "outputs": [
    {
     "name": "stdout",
     "output_type": "stream",
     "text": [
      "Средний запас предсказанного сырья: 94.96504596800489, RMSE модели линейной регрессии на валидационной выборке: 40.02970873393434\n"
     ]
    }
   ],
   "source": [
    "model_2 = LinearRegression()\n",
    "model_2.fit(features_train_2, target_train_2)\n",
    "predict_2 = model_2.predict(features_valid_2)\n",
    "rmse_2 = mean_squared_error(target_valid_2, predict_2) ** .5\n",
    "mean_predict_2 = predict_2.mean()\n",
    "print(f'Средний запас предсказанного сырья: {mean_predict_2}, \\\n",
    "RMSE модели линейной регрессии на валидационной выборке: {rmse_2}')"
   ]
  },
  {
   "cell_type": "markdown",
   "metadata": {},
   "source": [
    "Средний запас предсказанного сырья меньше всего оказался в регионе № 2, но показатель RMSE равен 0,89, что означает что модель предсказывает достаточно точно в данном регионе. Самый большой средний запас в регионе № 3, но показатель RMSE равен 40, что почти в 2 раза меньше предсказанного запаса! Для определения наиболее выгодного региона для добычи необходимо дальнейшее исследование. "
   ]
  },
  {
   "cell_type": "markdown",
   "metadata": {},
   "source": [
    "## Подготовка к расчёту прибыли"
   ]
  },
  {
   "cell_type": "markdown",
   "metadata": {},
   "source": [
    "Посчитаем необходимый объем добычи для одной скважины. Учтем что бюджет на разработку равен 10 млрд., цена за 1 тыс. баррелей равна 450 тыс., количество скважин для разработки – 200.  "
   ]
  },
  {
   "cell_type": "code",
   "execution_count": 14,
   "metadata": {},
   "outputs": [],
   "source": [
    "BUDGET = 10_000_000_000\n",
    "PRICE_PER_UNIT = 450000\n",
    "NUMBER_OF_WELLS = 200"
   ]
  },
  {
   "cell_type": "code",
   "execution_count": 15,
   "metadata": {
    "scrolled": false
   },
   "outputs": [
    {
     "data": {
      "text/plain": [
       "111.11111111111111"
      ]
     },
     "execution_count": 15,
     "metadata": {},
     "output_type": "execute_result"
    }
   ],
   "source": [
    "min_quantity = BUDGET / PRICE_PER_UNIT / NUMBER_OF_WELLS\n",
    "min_quantity"
   ]
  },
  {
   "cell_type": "markdown",
   "metadata": {},
   "source": [
    "Получилось, что для того, чтобы “уйти в ноль” скважина должна вырабатывать 111.11111111111111 тыс. баррелей   "
   ]
  },
  {
   "cell_type": "markdown",
   "metadata": {},
   "source": [
    "Напишим функцию для расчёта прибыли по выбранным скважинам и предсказаниям модели"
   ]
  },
  {
   "cell_type": "code",
   "execution_count": 16,
   "metadata": {},
   "outputs": [],
   "source": [
    "def sum_profit(predict, target):\n",
    "    predict_top_200 = predict.sort_values(ascending=False)\n",
    "    sum_profit_wells = sum(target[predict_top_200.index][:200]) * PRICE_PER_UNIT\n",
    "    return sum_profit_wells - BUDGET"
   ]
  },
  {
   "cell_type": "markdown",
   "metadata": {},
   "source": [
    "Посчитаем прибыль для 200 самых крупных по объему выработки скважин для 3 регионов    "
   ]
  },
  {
   "cell_type": "code",
   "execution_count": 17,
   "metadata": {},
   "outputs": [
    {
     "data": {
      "text/plain": [
       "(3320826043.1398544, 2415086696.681551, 2710349963.5998363)"
      ]
     },
     "execution_count": 17,
     "metadata": {},
     "output_type": "execute_result"
    }
   ],
   "source": [
    "predict_0 = pd.Series(predict_0, index = target_valid_0.index)\n",
    "predict_1 = pd.Series(predict_1, index = target_valid_1.index)\n",
    "predict_2 = pd.Series(predict_2, index = target_valid_2.index)\n",
    "sum_profit(predict_0, target_valid_0), sum_profit(predict_1, target_valid_1),sum_profit(predict_2, target_valid_2)"
   ]
  },
  {
   "cell_type": "markdown",
   "metadata": {},
   "source": [
    "## Расчёт прибыли и рисков "
   ]
  },
  {
   "cell_type": "markdown",
   "metadata": {},
   "source": [
    "Напишем функцию для подсчета риска убытка"
   ]
  },
  {
   "cell_type": "code",
   "execution_count": 18,
   "metadata": {},
   "outputs": [],
   "source": [
    "def procent_loss(row):\n",
    "    return (row < 0).mean() * 100"
   ]
  },
  {
   "cell_type": "markdown",
   "metadata": {},
   "source": [
    "Применим технику Bootstrap с 1000 выборок, чтобы найти распределение прибыли для первого региона"
   ]
  },
  {
   "cell_type": "code",
   "execution_count": 19,
   "metadata": {},
   "outputs": [
    {
     "name": "stdout",
     "output_type": "stream",
     "text": [
      "Средняя выручка: 396164984.80237156руб., 95%-й доверительный интервал: (-111215545.89049521, 909766941.5534207), риск убытка 6.9%\n"
     ]
    }
   ],
   "source": [
    "state = np.random.RandomState(12345)\n",
    "    \n",
    "values_0 = []\n",
    "for i in range(1000):\n",
    "    predict_subsample_0 = predict_0.sample(n=500, replace=True, random_state=state)\n",
    "    values_0.append(sum_profit(predict_subsample_0, target_valid_0))\n",
    "\n",
    "values_0 = pd.Series(values_0)\n",
    "\n",
    "mean_0 = values_0.mean()\n",
    "lower_0 = values_0.quantile(0.025)\n",
    "upper_0 = values_0.quantile(0.975)\n",
    "procent_loss_0 = procent_loss(values_0)\n",
    "\n",
    "print(f'Средняя выручка: {mean_0}руб., 95%-й доверительный интервал: {lower_0, upper_0}, риск убытка {procent_loss_0:.1f}%' )\n"
   ]
  },
  {
   "cell_type": "markdown",
   "metadata": {},
   "source": [
    "Применим технику Bootstrap с 1000 выборок, чтобы найти распределение прибыли для второго региона"
   ]
  },
  {
   "cell_type": "code",
   "execution_count": 20,
   "metadata": {},
   "outputs": [
    {
     "name": "stdout",
     "output_type": "stream",
     "text": [
      "Средняя выручка: 461155817.27726144руб., 95%-й доверительный интервал: (78050810.75175706, 862952060.2637427), риск убытка 0.7%\n"
     ]
    }
   ],
   "source": [
    "values_1 = []\n",
    "for i in range(1000):\n",
    "    predict_subsample_1 = predict_1.sample(n=500, replace=True, random_state=state)\n",
    "    values_1.append(sum_profit(predict_subsample_1,target_valid_1))\n",
    "\n",
    "values_1 = pd.Series(values_1)\n",
    "\n",
    "mean_1 = values_1.mean()\n",
    "lower_1 = values_1.quantile(0.025)\n",
    "upper_1 = values_1.quantile(0.975)\n",
    "procent_loss_1 = procent_loss(values_1)\n",
    "\n",
    "print(f'Средняя выручка: {mean_1}руб., 95%-й доверительный интервал: {lower_1, upper_1}, риск убытка {procent_loss_1:.1f}%' )"
   ]
  },
  {
   "cell_type": "markdown",
   "metadata": {},
   "source": [
    "Применим технику Bootstrap с 1000 выборок, чтобы найти распределение прибыли для третьего региона"
   ]
  },
  {
   "cell_type": "code",
   "execution_count": 21,
   "metadata": {},
   "outputs": [
    {
     "name": "stdout",
     "output_type": "stream",
     "text": [
      "Средняя выручка: 392950475.170605руб., 95%-й доверительный интервал: (-112227625.37857184, 934562914.5511599), риск убытка 6.5%\n"
     ]
    }
   ],
   "source": [
    "values_2 = []\n",
    "for i in range(1000):\n",
    "    predict_subsample_2 = predict_2.sample(n=500, replace=True, random_state=state)\n",
    "    values_2.append(sum_profit(predict_subsample_2,target_valid_2))\n",
    "\n",
    "values_2 = pd.Series(values_2)\n",
    "\n",
    "mean_2 = values_2.mean()\n",
    "lower_2 = values_2.quantile(0.025)\n",
    "upper_2 = values_2.quantile(0.975)\n",
    "procent_loss_2 = procent_loss(values_2)\n",
    "\n",
    "print(f'Средняя выручка: {mean_2}руб., 95%-й доверительный интервал: {lower_2, upper_2}, риск убытка {procent_loss_2:.1f}%' )"
   ]
  },
  {
   "cell_type": "markdown",
   "metadata": {},
   "source": [
    "После проведенных исследований для разработки рекомендую регион №2, т.к. у него наименьший риск убытка, наибольший 2.5%-ый квантиль и наибольшая средняя выручка. У других регионов риск убытка в разы больше и 2.5%-ый квантиль имеет отрицательное значение."
   ]
  },
  {
   "cell_type": "markdown",
   "metadata": {},
   "source": [
    "## Вывод"
   ]
  },
  {
   "cell_type": "markdown",
   "metadata": {},
   "source": [
    "В первом разделе “Загрузка и подготовка данных” были загружены датафреймы для 3 различных регионов разработки месторождений. Полученная общая информация о них, и было выявлено что 3 датафрейма имеют одинаковую структуру. \n",
    "\n",
    "Во втором разделе “Обучение и проверка модели” датасеты были разделены на две выборки для обучения, удален столбец с уникальным идентификатором скважины, так как он не несет никакой пользы для обучения. Впоследствии выборки были дополнительно разделены на обучающую и валидационную выборку. Для обучения подошла только модель линейной регрессии, остальные модели недостаточно предсказуемые. Посчитан средний запас предсказанного сырья и метрика RMSE. Полученные данные показали, что необходимо дальнейшее исследование.\n",
    "\n",
    "В третьем разделе “Подготовка к расчету прибыли” был рассчитан минимальный объем произведенной продукции для одной скважины, его значение 111.11 тыс. баррелей. Также была написана функция для расчета прибыли по выбранным скважинам, необходимая для исследование в четвертом разделе. \n",
    "\n",
    "В четвертом разделе “Расчет прибыли и рисков” применили технику Bootstrap и посчитали среднюю выручку, доверительный интервал и риск убытка для каждого региона. По этим данным была сформулирована рекомендация для наилучшего региона для разработки. Им оказался регион №2, так как риск убытка в этим регионе показал минимальное значение,средняя выручка максимальна среди всех регионов, а доверительный 95-и % интервал имеет значение (78050810, 862952060) и его правая граница (2.5% квантиль) имеет самое высокое значение среди других регионов. \n"
   ]
  },
  {
   "cell_type": "code",
   "execution_count": null,
   "metadata": {},
   "outputs": [],
   "source": []
  }
 ],
 "metadata": {
  "ExecuteTimeLog": [
   {
    "duration": 960,
    "start_time": "2023-02-07T08:53:45.194Z"
   },
   {
    "duration": 1468,
    "start_time": "2023-02-07T09:31:07.092Z"
   },
   {
    "duration": 3,
    "start_time": "2023-02-07T09:37:03.387Z"
   },
   {
    "duration": 90,
    "start_time": "2023-02-07T09:38:07.448Z"
   },
   {
    "duration": 3,
    "start_time": "2023-02-07T09:38:37.120Z"
   },
   {
    "duration": 40,
    "start_time": "2023-02-07T09:38:38.016Z"
   },
   {
    "duration": 954,
    "start_time": "2023-02-07T09:39:02.881Z"
   },
   {
    "duration": 378,
    "start_time": "2023-02-07T09:39:03.838Z"
   },
   {
    "duration": 19,
    "start_time": "2023-02-07T09:39:04.218Z"
   },
   {
    "duration": 8,
    "start_time": "2023-02-07T09:39:04.239Z"
   },
   {
    "duration": 13,
    "start_time": "2023-02-07T09:39:04.248Z"
   },
   {
    "duration": 6,
    "start_time": "2023-02-07T09:39:04.262Z"
   },
   {
    "duration": 41,
    "start_time": "2023-02-07T09:39:04.270Z"
   },
   {
    "duration": 107,
    "start_time": "2023-02-07T09:39:04.313Z"
   },
   {
    "duration": 37,
    "start_time": "2023-02-07T09:40:28.110Z"
   },
   {
    "duration": 38,
    "start_time": "2023-02-07T09:40:37.279Z"
   },
   {
    "duration": 38,
    "start_time": "2023-02-07T09:41:11.337Z"
   },
   {
    "duration": 3,
    "start_time": "2023-02-07T09:41:31.510Z"
   },
   {
    "duration": 42,
    "start_time": "2023-02-07T09:41:31.977Z"
   },
   {
    "duration": 3,
    "start_time": "2023-02-07T09:41:50.206Z"
   },
   {
    "duration": 29,
    "start_time": "2023-02-07T09:41:50.771Z"
   },
   {
    "duration": 3,
    "start_time": "2023-02-07T09:41:57.911Z"
   },
   {
    "duration": 28,
    "start_time": "2023-02-07T09:41:58.591Z"
   },
   {
    "duration": 28,
    "start_time": "2023-02-07T09:42:05.142Z"
   },
   {
    "duration": 61,
    "start_time": "2023-02-07T09:42:38.406Z"
   },
   {
    "duration": 15,
    "start_time": "2023-02-07T09:42:52.314Z"
   },
   {
    "duration": 26,
    "start_time": "2023-02-07T09:43:19.317Z"
   },
   {
    "duration": 3,
    "start_time": "2023-02-07T09:44:43.988Z"
   },
   {
    "duration": 64,
    "start_time": "2023-02-07T09:44:44.932Z"
   },
   {
    "duration": 21,
    "start_time": "2023-02-07T09:44:45.472Z"
   },
   {
    "duration": 28,
    "start_time": "2023-02-07T09:44:52.492Z"
   },
   {
    "duration": 10,
    "start_time": "2023-02-07T09:45:03.276Z"
   },
   {
    "duration": 4,
    "start_time": "2023-02-07T09:48:34.979Z"
   },
   {
    "duration": 4,
    "start_time": "2023-02-07T09:48:36.637Z"
   },
   {
    "duration": 6,
    "start_time": "2023-02-07T09:49:11.258Z"
   },
   {
    "duration": 8,
    "start_time": "2023-02-07T09:49:48.034Z"
   },
   {
    "duration": 11,
    "start_time": "2023-02-07T09:49:56.471Z"
   },
   {
    "duration": 6,
    "start_time": "2023-02-07T09:50:04.088Z"
   },
   {
    "duration": 5,
    "start_time": "2023-02-07T09:50:29.346Z"
   },
   {
    "duration": 14,
    "start_time": "2023-02-07T09:52:54.592Z"
   },
   {
    "duration": 8,
    "start_time": "2023-02-07T09:53:06.720Z"
   },
   {
    "duration": 6,
    "start_time": "2023-02-07T09:53:25.688Z"
   },
   {
    "duration": 6,
    "start_time": "2023-02-07T09:53:47.936Z"
   },
   {
    "duration": 3,
    "start_time": "2023-02-07T09:57:32.936Z"
   },
   {
    "duration": 11,
    "start_time": "2023-02-07T09:57:33.543Z"
   },
   {
    "duration": 20,
    "start_time": "2023-02-07T09:57:34.145Z"
   },
   {
    "duration": 20,
    "start_time": "2023-02-07T09:57:36.704Z"
   },
   {
    "duration": 22,
    "start_time": "2023-02-07T09:57:38.431Z"
   },
   {
    "duration": 19,
    "start_time": "2023-02-07T09:58:03.863Z"
   },
   {
    "duration": 22,
    "start_time": "2023-02-07T09:58:04.343Z"
   },
   {
    "duration": 17,
    "start_time": "2023-02-07T09:58:05.032Z"
   },
   {
    "duration": 3,
    "start_time": "2023-02-07T09:58:53.838Z"
   },
   {
    "duration": 10,
    "start_time": "2023-02-07T09:58:54.798Z"
   },
   {
    "duration": 14,
    "start_time": "2023-02-07T09:58:55.231Z"
   },
   {
    "duration": 12,
    "start_time": "2023-02-07T09:58:55.703Z"
   },
   {
    "duration": 13,
    "start_time": "2023-02-07T09:58:56.143Z"
   },
   {
    "duration": 8,
    "start_time": "2023-02-07T09:59:10.231Z"
   },
   {
    "duration": 9,
    "start_time": "2023-02-07T10:03:31.719Z"
   },
   {
    "duration": 12,
    "start_time": "2023-02-07T10:04:05.138Z"
   },
   {
    "duration": 12,
    "start_time": "2023-02-07T10:08:55.619Z"
   },
   {
    "duration": 3,
    "start_time": "2023-02-07T10:10:48.043Z"
   },
   {
    "duration": 18,
    "start_time": "2023-02-07T10:17:31.512Z"
   },
   {
    "duration": 12,
    "start_time": "2023-02-07T10:18:26.774Z"
   },
   {
    "duration": 13,
    "start_time": "2023-02-07T10:19:11.847Z"
   },
   {
    "duration": 3,
    "start_time": "2023-02-07T10:34:08.442Z"
   },
   {
    "duration": 3,
    "start_time": "2023-02-07T10:35:44.698Z"
   },
   {
    "duration": 3,
    "start_time": "2023-02-07T11:01:35.775Z"
   },
   {
    "duration": 12,
    "start_time": "2023-02-07T11:01:53.806Z"
   },
   {
    "duration": 9,
    "start_time": "2023-02-07T11:02:25.391Z"
   },
   {
    "duration": 9,
    "start_time": "2023-02-07T11:02:48.229Z"
   },
   {
    "duration": 10,
    "start_time": "2023-02-07T11:02:52.534Z"
   },
   {
    "duration": 4,
    "start_time": "2023-02-07T11:04:58.709Z"
   },
   {
    "duration": 6,
    "start_time": "2023-02-07T11:04:59.349Z"
   },
   {
    "duration": 13,
    "start_time": "2023-02-07T11:05:27.445Z"
   },
   {
    "duration": 13,
    "start_time": "2023-02-07T11:05:32.101Z"
   },
   {
    "duration": 2,
    "start_time": "2023-02-07T11:12:32.244Z"
   },
   {
    "duration": 3,
    "start_time": "2023-02-07T11:21:43.583Z"
   },
   {
    "duration": 10,
    "start_time": "2023-02-07T11:21:46.697Z"
   },
   {
    "duration": 11,
    "start_time": "2023-02-07T11:23:13.543Z"
   },
   {
    "duration": 328,
    "start_time": "2023-02-07T11:23:21.151Z"
   },
   {
    "duration": 324,
    "start_time": "2023-02-07T11:23:34.975Z"
   },
   {
    "duration": 4,
    "start_time": "2023-02-07T11:26:11.350Z"
   },
   {
    "duration": 7,
    "start_time": "2023-02-07T11:26:16.675Z"
   },
   {
    "duration": 366,
    "start_time": "2023-02-07T11:29:28.695Z"
   },
   {
    "duration": 325,
    "start_time": "2023-02-07T11:30:05.884Z"
   },
   {
    "duration": 330,
    "start_time": "2023-02-07T11:31:59.083Z"
   },
   {
    "duration": 329,
    "start_time": "2023-02-07T11:32:46.539Z"
   },
   {
    "duration": 3,
    "start_time": "2023-02-07T11:53:10.189Z"
   },
   {
    "duration": 3,
    "start_time": "2023-02-07T11:58:46.411Z"
   },
   {
    "duration": 12,
    "start_time": "2023-02-07T12:01:39.194Z"
   },
   {
    "duration": 13,
    "start_time": "2023-02-07T12:01:39.491Z"
   },
   {
    "duration": 3,
    "start_time": "2023-02-07T12:22:40.576Z"
   },
   {
    "duration": 3,
    "start_time": "2023-02-07T12:22:41.308Z"
   },
   {
    "duration": 2,
    "start_time": "2023-02-07T12:28:56.995Z"
   },
   {
    "duration": 13,
    "start_time": "2023-02-07T12:28:57.937Z"
   },
   {
    "duration": 310,
    "start_time": "2023-02-07T12:29:07.554Z"
   },
   {
    "duration": 325,
    "start_time": "2023-02-07T12:29:10.506Z"
   },
   {
    "duration": 328,
    "start_time": "2023-02-07T12:29:11.346Z"
   },
   {
    "duration": 4,
    "start_time": "2023-02-07T12:29:30.491Z"
   },
   {
    "duration": 13,
    "start_time": "2023-02-07T12:29:31.689Z"
   },
   {
    "duration": 3,
    "start_time": "2023-02-07T12:30:45.834Z"
   },
   {
    "duration": 12,
    "start_time": "2023-02-07T12:30:47.354Z"
   },
   {
    "duration": 334,
    "start_time": "2023-02-07T12:30:49.545Z"
   },
   {
    "duration": 325,
    "start_time": "2023-02-07T12:30:50.338Z"
   },
   {
    "duration": 325,
    "start_time": "2023-02-07T12:30:51.034Z"
   },
   {
    "duration": 989,
    "start_time": "2023-02-07T12:30:58.737Z"
   },
   {
    "duration": 385,
    "start_time": "2023-02-07T12:30:59.728Z"
   },
   {
    "duration": 11,
    "start_time": "2023-02-07T12:31:00.114Z"
   },
   {
    "duration": 9,
    "start_time": "2023-02-07T12:31:00.137Z"
   },
   {
    "duration": 24,
    "start_time": "2023-02-07T12:31:00.148Z"
   },
   {
    "duration": 17,
    "start_time": "2023-02-07T12:31:00.174Z"
   },
   {
    "duration": 29,
    "start_time": "2023-02-07T12:31:00.193Z"
   },
   {
    "duration": 51,
    "start_time": "2023-02-07T12:31:00.224Z"
   },
   {
    "duration": 41,
    "start_time": "2023-02-07T12:31:00.277Z"
   },
   {
    "duration": 56,
    "start_time": "2023-02-07T12:31:00.320Z"
   },
   {
    "duration": 67,
    "start_time": "2023-02-07T12:31:00.377Z"
   },
   {
    "duration": 214,
    "start_time": "2023-02-07T12:31:00.445Z"
   },
   {
    "duration": 179,
    "start_time": "2023-02-07T12:31:00.661Z"
   },
   {
    "duration": 103,
    "start_time": "2023-02-07T12:31:00.843Z"
   },
   {
    "duration": 91,
    "start_time": "2023-02-07T12:31:00.948Z"
   },
   {
    "duration": 13,
    "start_time": "2023-02-07T12:31:01.040Z"
   },
   {
    "duration": 26,
    "start_time": "2023-02-07T12:31:01.054Z"
   },
   {
    "duration": 337,
    "start_time": "2023-02-07T12:31:01.081Z"
   },
   {
    "duration": 323,
    "start_time": "2023-02-07T12:31:01.419Z"
   },
   {
    "duration": 329,
    "start_time": "2023-02-07T12:31:01.744Z"
   },
   {
    "duration": 391,
    "start_time": "2023-02-07T12:34:32.420Z"
   },
   {
    "duration": 330,
    "start_time": "2023-02-07T12:35:05.825Z"
   },
   {
    "duration": 362,
    "start_time": "2023-02-07T12:35:43.472Z"
   },
   {
    "duration": 330,
    "start_time": "2023-02-07T12:36:35.384Z"
   },
   {
    "duration": 347,
    "start_time": "2023-02-07T12:37:12.135Z"
   },
   {
    "duration": 434,
    "start_time": "2023-02-07T12:37:46.127Z"
   },
   {
    "duration": 327,
    "start_time": "2023-02-07T12:38:00.656Z"
   },
   {
    "duration": 321,
    "start_time": "2023-02-07T12:38:10.280Z"
   },
   {
    "duration": 3,
    "start_time": "2023-02-07T12:43:17.921Z"
   },
   {
    "duration": 350,
    "start_time": "2023-02-07T12:43:46.153Z"
   },
   {
    "duration": 339,
    "start_time": "2023-02-07T12:44:00.721Z"
   },
   {
    "duration": 328,
    "start_time": "2023-02-07T12:44:40.589Z"
   },
   {
    "duration": 412,
    "start_time": "2023-02-07T12:44:58.141Z"
   },
   {
    "duration": 348,
    "start_time": "2023-02-07T12:45:39.813Z"
   },
   {
    "duration": 316,
    "start_time": "2023-02-07T12:45:45.164Z"
   },
   {
    "duration": 376,
    "start_time": "2023-02-07T12:45:54.417Z"
   },
   {
    "duration": 341,
    "start_time": "2023-02-07T12:45:55.420Z"
   },
   {
    "duration": 349,
    "start_time": "2023-02-07T12:46:12.996Z"
   },
   {
    "duration": 357,
    "start_time": "2023-02-07T12:47:55.900Z"
   },
   {
    "duration": 327,
    "start_time": "2023-02-07T12:48:28.907Z"
   },
   {
    "duration": 322,
    "start_time": "2023-02-07T12:48:33.276Z"
   },
   {
    "duration": 339,
    "start_time": "2023-02-07T12:48:43.267Z"
   },
   {
    "duration": 3,
    "start_time": "2023-02-07T12:49:04.750Z"
   },
   {
    "duration": 428,
    "start_time": "2023-02-07T12:49:05.803Z"
   },
   {
    "duration": 375,
    "start_time": "2023-02-07T12:49:08.508Z"
   },
   {
    "duration": 328,
    "start_time": "2023-02-07T12:49:10.715Z"
   },
   {
    "duration": 330,
    "start_time": "2023-02-07T12:49:15.954Z"
   },
   {
    "duration": 400,
    "start_time": "2023-02-07T12:49:22.357Z"
   },
   {
    "duration": 3,
    "start_time": "2023-02-07T12:50:40.258Z"
   },
   {
    "duration": 316,
    "start_time": "2023-02-07T12:50:41.898Z"
   },
   {
    "duration": 329,
    "start_time": "2023-02-07T12:50:45.354Z"
   },
   {
    "duration": 324,
    "start_time": "2023-02-07T12:50:46.149Z"
   },
   {
    "duration": 320,
    "start_time": "2023-02-07T12:50:57.706Z"
   },
   {
    "duration": 3,
    "start_time": "2023-02-07T12:51:22.955Z"
   },
   {
    "duration": 327,
    "start_time": "2023-02-07T12:51:24.169Z"
   },
   {
    "duration": 321,
    "start_time": "2023-02-07T12:51:25.761Z"
   },
   {
    "duration": 307,
    "start_time": "2023-02-07T12:51:26.570Z"
   },
   {
    "duration": 370,
    "start_time": "2023-02-07T12:51:42.498Z"
   },
   {
    "duration": 330,
    "start_time": "2023-02-07T12:51:43.314Z"
   },
   {
    "duration": 315,
    "start_time": "2023-02-07T12:51:44.082Z"
   },
   {
    "duration": 3,
    "start_time": "2023-02-07T12:52:03.034Z"
   },
   {
    "duration": 326,
    "start_time": "2023-02-07T12:52:04.146Z"
   },
   {
    "duration": 319,
    "start_time": "2023-02-07T12:52:04.924Z"
   },
   {
    "duration": 328,
    "start_time": "2023-02-07T12:52:05.681Z"
   },
   {
    "duration": 322,
    "start_time": "2023-02-07T12:53:17.073Z"
   },
   {
    "duration": 389,
    "start_time": "2023-02-07T12:53:22.473Z"
   },
   {
    "duration": 923,
    "start_time": "2023-02-07T12:53:53.500Z"
   },
   {
    "duration": 404,
    "start_time": "2023-02-07T12:53:54.425Z"
   },
   {
    "duration": 13,
    "start_time": "2023-02-07T12:53:54.831Z"
   },
   {
    "duration": 9,
    "start_time": "2023-02-07T12:53:54.846Z"
   },
   {
    "duration": 13,
    "start_time": "2023-02-07T12:53:54.857Z"
   },
   {
    "duration": 6,
    "start_time": "2023-02-07T12:53:54.874Z"
   },
   {
    "duration": 13,
    "start_time": "2023-02-07T12:53:54.882Z"
   },
   {
    "duration": 26,
    "start_time": "2023-02-07T12:53:54.897Z"
   },
   {
    "duration": 24,
    "start_time": "2023-02-07T12:53:54.925Z"
   },
   {
    "duration": 14,
    "start_time": "2023-02-07T12:53:54.950Z"
   },
   {
    "duration": 74,
    "start_time": "2023-02-07T12:53:54.966Z"
   },
   {
    "duration": 99,
    "start_time": "2023-02-07T12:53:55.042Z"
   },
   {
    "duration": 210,
    "start_time": "2023-02-07T12:53:55.142Z"
   },
   {
    "duration": 2,
    "start_time": "2023-02-07T12:53:55.355Z"
   },
   {
    "duration": 193,
    "start_time": "2023-02-07T12:53:55.358Z"
   },
   {
    "duration": 6,
    "start_time": "2023-02-07T12:53:55.553Z"
   },
   {
    "duration": 19,
    "start_time": "2023-02-07T12:53:55.561Z"
   },
   {
    "duration": 3,
    "start_time": "2023-02-07T12:53:55.582Z"
   },
   {
    "duration": 353,
    "start_time": "2023-02-07T12:53:55.586Z"
   },
   {
    "duration": 352,
    "start_time": "2023-02-07T12:53:55.941Z"
   },
   {
    "duration": 384,
    "start_time": "2023-02-07T12:53:56.295Z"
   },
   {
    "duration": 1022,
    "start_time": "2023-02-07T14:00:22.640Z"
   },
   {
    "duration": 391,
    "start_time": "2023-02-07T14:00:23.664Z"
   },
   {
    "duration": 12,
    "start_time": "2023-02-07T14:00:24.056Z"
   },
   {
    "duration": 16,
    "start_time": "2023-02-07T14:00:24.069Z"
   },
   {
    "duration": 24,
    "start_time": "2023-02-07T14:00:24.087Z"
   },
   {
    "duration": 7,
    "start_time": "2023-02-07T14:00:24.112Z"
   },
   {
    "duration": 11,
    "start_time": "2023-02-07T14:00:24.121Z"
   },
   {
    "duration": 16,
    "start_time": "2023-02-07T14:00:24.134Z"
   },
   {
    "duration": 18,
    "start_time": "2023-02-07T14:00:24.152Z"
   },
   {
    "duration": 15,
    "start_time": "2023-02-07T14:00:24.172Z"
   },
   {
    "duration": 50,
    "start_time": "2023-02-07T14:00:24.188Z"
   },
   {
    "duration": 105,
    "start_time": "2023-02-07T14:00:24.240Z"
   },
   {
    "duration": 194,
    "start_time": "2023-02-07T14:00:24.346Z"
   },
   {
    "duration": 102,
    "start_time": "2023-02-07T14:00:24.543Z"
   },
   {
    "duration": 8,
    "start_time": "2023-02-07T14:00:24.647Z"
   },
   {
    "duration": 8,
    "start_time": "2023-02-07T14:00:24.657Z"
   },
   {
    "duration": 74,
    "start_time": "2023-02-07T14:00:24.667Z"
   },
   {
    "duration": 4,
    "start_time": "2023-02-07T14:00:24.743Z"
   },
   {
    "duration": 399,
    "start_time": "2023-02-07T14:00:24.749Z"
   },
   {
    "duration": 378,
    "start_time": "2023-02-07T14:00:25.149Z"
   },
   {
    "duration": 407,
    "start_time": "2023-02-07T14:00:25.529Z"
   },
   {
    "duration": 1097,
    "start_time": "2023-02-08T09:57:07.580Z"
   },
   {
    "duration": 1505,
    "start_time": "2023-02-08T09:57:08.680Z"
   },
   {
    "duration": 11,
    "start_time": "2023-02-08T09:57:10.187Z"
   },
   {
    "duration": 8,
    "start_time": "2023-02-08T09:57:10.200Z"
   },
   {
    "duration": 10,
    "start_time": "2023-02-08T09:57:10.975Z"
   },
   {
    "duration": 3,
    "start_time": "2023-02-08T09:57:12.942Z"
   },
   {
    "duration": 9,
    "start_time": "2023-02-08T09:57:13.806Z"
   },
   {
    "duration": 17,
    "start_time": "2023-02-08T09:57:14.504Z"
   },
   {
    "duration": 16,
    "start_time": "2023-02-08T09:57:15.375Z"
   },
   {
    "duration": 18,
    "start_time": "2023-02-08T09:57:15.903Z"
   },
   {
    "duration": 22,
    "start_time": "2023-02-08T09:57:17.023Z"
   },
   {
    "duration": 18,
    "start_time": "2023-02-08T09:57:34.870Z"
   },
   {
    "duration": 15,
    "start_time": "2023-02-08T09:57:46.370Z"
   },
   {
    "duration": 15,
    "start_time": "2023-02-08T09:58:05.352Z"
   },
   {
    "duration": 15,
    "start_time": "2023-02-08T09:58:05.873Z"
   },
   {
    "duration": 14,
    "start_time": "2023-02-08T09:58:06.327Z"
   },
   {
    "duration": 13,
    "start_time": "2023-02-08T09:58:06.762Z"
   },
   {
    "duration": 2,
    "start_time": "2023-02-08T09:58:09.943Z"
   },
   {
    "duration": 4,
    "start_time": "2023-02-08T09:58:12.918Z"
   },
   {
    "duration": 4,
    "start_time": "2023-02-08T09:58:14.645Z"
   },
   {
    "duration": 109,
    "start_time": "2023-02-08T09:59:02.079Z"
   },
   {
    "duration": 4,
    "start_time": "2023-02-08T09:59:41.630Z"
   },
   {
    "duration": 5,
    "start_time": "2023-02-08T09:59:47.382Z"
   },
   {
    "duration": 5,
    "start_time": "2023-02-08T09:59:54.702Z"
   },
   {
    "duration": 12,
    "start_time": "2023-02-08T10:00:15.949Z"
   },
   {
    "duration": 9,
    "start_time": "2023-02-08T10:00:20.774Z"
   },
   {
    "duration": 3,
    "start_time": "2023-02-08T10:00:32.959Z"
   },
   {
    "duration": 21,
    "start_time": "2023-02-08T10:00:34.152Z"
   },
   {
    "duration": 4,
    "start_time": "2023-02-08T10:02:20.013Z"
   },
   {
    "duration": 21,
    "start_time": "2023-02-08T10:02:21.789Z"
   },
   {
    "duration": 3,
    "start_time": "2023-02-08T10:02:57.319Z"
   },
   {
    "duration": 24,
    "start_time": "2023-02-08T10:02:58.557Z"
   },
   {
    "duration": 4,
    "start_time": "2023-02-08T10:04:05.005Z"
   },
   {
    "duration": 4,
    "start_time": "2023-02-08T10:04:10.806Z"
   },
   {
    "duration": 4,
    "start_time": "2023-02-08T10:04:43.189Z"
   },
   {
    "duration": 6,
    "start_time": "2023-02-08T10:04:56.388Z"
   },
   {
    "duration": 6,
    "start_time": "2023-02-08T10:05:13.173Z"
   },
   {
    "duration": 25,
    "start_time": "2023-02-08T10:11:30.226Z"
   },
   {
    "duration": 4,
    "start_time": "2023-02-08T10:15:07.312Z"
   },
   {
    "duration": 18,
    "start_time": "2023-02-08T10:15:14.082Z"
   },
   {
    "duration": 4,
    "start_time": "2023-02-08T10:15:34.747Z"
   },
   {
    "duration": 20,
    "start_time": "2023-02-08T10:15:35.977Z"
   },
   {
    "duration": 3,
    "start_time": "2023-02-08T10:16:18.000Z"
   },
   {
    "duration": 21,
    "start_time": "2023-02-08T10:16:19.064Z"
   },
   {
    "duration": 4,
    "start_time": "2023-02-08T10:16:40.577Z"
   },
   {
    "duration": 19,
    "start_time": "2023-02-08T10:16:41.751Z"
   },
   {
    "duration": 4,
    "start_time": "2023-02-08T10:17:12.959Z"
   },
   {
    "duration": 13,
    "start_time": "2023-02-08T10:17:14.639Z"
   },
   {
    "duration": 28,
    "start_time": "2023-02-08T10:17:37.896Z"
   },
   {
    "duration": 29,
    "start_time": "2023-02-08T10:22:57.992Z"
   },
   {
    "duration": 3,
    "start_time": "2023-02-08T10:24:40.891Z"
   },
   {
    "duration": 17,
    "start_time": "2023-02-08T10:24:42.116Z"
   },
   {
    "duration": 4,
    "start_time": "2023-02-08T10:24:51.372Z"
   },
   {
    "duration": 620,
    "start_time": "2023-02-08T10:24:53.779Z"
   },
   {
    "duration": 594,
    "start_time": "2023-02-08T10:25:20.243Z"
   },
   {
    "duration": 645,
    "start_time": "2023-02-08T10:25:53.203Z"
   },
   {
    "duration": 3,
    "start_time": "2023-02-08T10:29:43.816Z"
   },
   {
    "duration": 592,
    "start_time": "2023-02-08T10:29:44.936Z"
   },
   {
    "duration": 600,
    "start_time": "2023-02-08T10:29:54.712Z"
   },
   {
    "duration": 3,
    "start_time": "2023-02-08T10:30:03.768Z"
   },
   {
    "duration": 583,
    "start_time": "2023-02-08T10:30:06.985Z"
   },
   {
    "duration": 636,
    "start_time": "2023-02-08T10:30:09.680Z"
   },
   {
    "duration": 666,
    "start_time": "2023-02-08T10:30:13.276Z"
   },
   {
    "duration": 1115,
    "start_time": "2023-02-08T10:31:05.910Z"
   },
   {
    "duration": 402,
    "start_time": "2023-02-08T10:31:07.027Z"
   },
   {
    "duration": 11,
    "start_time": "2023-02-08T10:31:07.431Z"
   },
   {
    "duration": 12,
    "start_time": "2023-02-08T10:31:07.444Z"
   },
   {
    "duration": 10,
    "start_time": "2023-02-08T10:31:07.457Z"
   },
   {
    "duration": 4,
    "start_time": "2023-02-08T10:31:07.469Z"
   },
   {
    "duration": 10,
    "start_time": "2023-02-08T10:31:07.475Z"
   },
   {
    "duration": 16,
    "start_time": "2023-02-08T10:31:07.487Z"
   },
   {
    "duration": 45,
    "start_time": "2023-02-08T10:31:07.505Z"
   },
   {
    "duration": 28,
    "start_time": "2023-02-08T10:31:07.553Z"
   },
   {
    "duration": 57,
    "start_time": "2023-02-08T10:31:07.583Z"
   },
   {
    "duration": 111,
    "start_time": "2023-02-08T10:31:07.641Z"
   },
   {
    "duration": 198,
    "start_time": "2023-02-08T10:31:07.754Z"
   },
   {
    "duration": 84,
    "start_time": "2023-02-08T10:31:07.953Z"
   },
   {
    "duration": 115,
    "start_time": "2023-02-08T10:31:08.039Z"
   },
   {
    "duration": 19,
    "start_time": "2023-02-08T10:31:08.156Z"
   },
   {
    "duration": 43,
    "start_time": "2023-02-08T10:31:08.177Z"
   },
   {
    "duration": 7,
    "start_time": "2023-02-08T10:31:08.222Z"
   },
   {
    "duration": 634,
    "start_time": "2023-02-08T10:31:08.231Z"
   },
   {
    "duration": 710,
    "start_time": "2023-02-08T10:31:08.867Z"
   },
   {
    "duration": 642,
    "start_time": "2023-02-08T10:31:09.579Z"
   },
   {
    "duration": 2,
    "start_time": "2023-02-08T10:31:43.919Z"
   },
   {
    "duration": 3,
    "start_time": "2023-02-08T10:31:44.951Z"
   },
   {
    "duration": 3,
    "start_time": "2023-02-08T10:31:50.839Z"
   },
   {
    "duration": 1085,
    "start_time": "2023-02-08T10:31:55.332Z"
   },
   {
    "duration": 434,
    "start_time": "2023-02-08T10:31:56.419Z"
   },
   {
    "duration": 12,
    "start_time": "2023-02-08T10:31:56.855Z"
   },
   {
    "duration": 11,
    "start_time": "2023-02-08T10:31:56.869Z"
   },
   {
    "duration": 9,
    "start_time": "2023-02-08T10:31:56.883Z"
   },
   {
    "duration": 6,
    "start_time": "2023-02-08T10:31:56.894Z"
   },
   {
    "duration": 11,
    "start_time": "2023-02-08T10:31:56.902Z"
   },
   {
    "duration": 17,
    "start_time": "2023-02-08T10:31:56.937Z"
   },
   {
    "duration": 15,
    "start_time": "2023-02-08T10:31:56.956Z"
   },
   {
    "duration": 16,
    "start_time": "2023-02-08T10:31:56.972Z"
   },
   {
    "duration": 54,
    "start_time": "2023-02-08T10:31:56.989Z"
   },
   {
    "duration": 104,
    "start_time": "2023-02-08T10:31:57.044Z"
   },
   {
    "duration": 187,
    "start_time": "2023-02-08T10:31:57.150Z"
   },
   {
    "duration": 100,
    "start_time": "2023-02-08T10:31:57.341Z"
   },
   {
    "duration": 10,
    "start_time": "2023-02-08T10:31:57.443Z"
   },
   {
    "duration": 5,
    "start_time": "2023-02-08T10:31:57.454Z"
   },
   {
    "duration": 22,
    "start_time": "2023-02-08T10:31:57.460Z"
   },
   {
    "duration": 3,
    "start_time": "2023-02-08T10:31:57.484Z"
   },
   {
    "duration": 620,
    "start_time": "2023-02-08T10:31:57.488Z"
   },
   {
    "duration": 692,
    "start_time": "2023-02-08T10:31:58.110Z"
   },
   {
    "duration": 620,
    "start_time": "2023-02-08T10:31:58.804Z"
   },
   {
    "duration": 1122,
    "start_time": "2023-02-08T10:38:34.505Z"
   },
   {
    "duration": 430,
    "start_time": "2023-02-08T10:38:35.629Z"
   },
   {
    "duration": 13,
    "start_time": "2023-02-08T10:38:36.061Z"
   },
   {
    "duration": 14,
    "start_time": "2023-02-08T10:38:36.076Z"
   },
   {
    "duration": 38,
    "start_time": "2023-02-08T10:38:36.091Z"
   },
   {
    "duration": 15,
    "start_time": "2023-02-08T10:38:36.131Z"
   },
   {
    "duration": 26,
    "start_time": "2023-02-08T10:38:36.148Z"
   },
   {
    "duration": 28,
    "start_time": "2023-02-08T10:38:36.176Z"
   },
   {
    "duration": 29,
    "start_time": "2023-02-08T10:38:36.206Z"
   },
   {
    "duration": 18,
    "start_time": "2023-02-08T10:38:36.237Z"
   },
   {
    "duration": 28,
    "start_time": "2023-02-08T10:38:36.257Z"
   },
   {
    "duration": 164,
    "start_time": "2023-02-08T10:38:36.287Z"
   },
   {
    "duration": 198,
    "start_time": "2023-02-08T10:38:36.453Z"
   },
   {
    "duration": 190,
    "start_time": "2023-02-08T10:38:36.654Z"
   },
   {
    "duration": 23,
    "start_time": "2023-02-08T10:38:36.846Z"
   },
   {
    "duration": 16,
    "start_time": "2023-02-08T10:38:36.871Z"
   },
   {
    "duration": 39,
    "start_time": "2023-02-08T10:38:36.889Z"
   },
   {
    "duration": 6,
    "start_time": "2023-02-08T10:38:36.930Z"
   },
   {
    "duration": 651,
    "start_time": "2023-02-08T10:38:36.937Z"
   },
   {
    "duration": 612,
    "start_time": "2023-02-08T10:38:37.590Z"
   },
   {
    "duration": 608,
    "start_time": "2023-02-08T10:38:38.204Z"
   }
  ],
  "kernelspec": {
   "display_name": "Python 3 (ipykernel)",
   "language": "python",
   "name": "python3"
  },
  "language_info": {
   "codemirror_mode": {
    "name": "ipython",
    "version": 3
   },
   "file_extension": ".py",
   "mimetype": "text/x-python",
   "name": "python",
   "nbconvert_exporter": "python",
   "pygments_lexer": "ipython3",
   "version": "3.9.12"
  },
  "toc": {
   "base_numbering": 1,
   "nav_menu": {},
   "number_sections": true,
   "sideBar": true,
   "skip_h1_title": true,
   "title_cell": "Table of Contents",
   "title_sidebar": "Contents",
   "toc_cell": false,
   "toc_position": {},
   "toc_section_display": true,
   "toc_window_display": false
  }
 },
 "nbformat": 4,
 "nbformat_minor": 2
}
